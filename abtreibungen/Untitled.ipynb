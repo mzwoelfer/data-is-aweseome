{
 "cells": [
  {
   "cell_type": "code",
   "execution_count": 20,
   "id": "697cdf67",
   "metadata": {},
   "outputs": [],
   "source": [
    "import requests\n",
    "import pandas as pd \n",
    "import matplotlib.pyplot as plt\n",
    "import json\n",
    "from io import StringIO\n",
    "from dotenv import load_dotenv\n",
    "import os\n",
    "import csv"
   ]
  },
  {
   "cell_type": "code",
   "execution_count": 2,
   "id": "99c78bd4",
   "metadata": {},
   "outputs": [
    {
     "data": {
      "text/plain": [
       "True"
      ]
     },
     "execution_count": 2,
     "metadata": {},
     "output_type": "execute_result"
    }
   ],
   "source": [
    "load_dotenv()"
   ]
  },
  {
   "cell_type": "code",
   "execution_count": 3,
   "id": "ffd1ec91",
   "metadata": {},
   "outputs": [],
   "source": [
    "def testDeStatisAPI():\n",
    "    test_req = {\n",
    "        \"username\": os.getenv(\"API_USERNAME\"),\n",
    "        \"password\": os.getenv(\"API_PASSWORD\"),\n",
    "        \"language\": \"de\"\n",
    "    }\n",
    "    test_url = \"https://www-genesis.destatis.de/genesisWS/rest/2020/helloworld/logincheck\"\n",
    "    test_response = requests.get(test_url, params=test_req)\n",
    "    return test_response"
   ]
  },
  {
   "cell_type": "code",
   "execution_count": 4,
   "id": "394e6648",
   "metadata": {},
   "outputs": [
    {
     "data": {
      "text/plain": [
       "<Response [200]>"
      ]
     },
     "execution_count": 4,
     "metadata": {},
     "output_type": "execute_result"
    }
   ],
   "source": [
    "testDeStatisAPI()"
   ]
  },
  {
   "cell_type": "code",
   "execution_count": 26,
   "id": "3fb11a4c",
   "metadata": {},
   "outputs": [],
   "source": [
    "#######################################################################"
   ]
  },
  {
   "cell_type": "code",
   "execution_count": 7,
   "id": "33b29c0b",
   "metadata": {},
   "outputs": [],
   "source": [
    "request = {\n",
    "    \"username\": os.getenv(\"API_USERNAME\"),\n",
    "    \"password\": os.getenv(\"API_PASSWORD\"),\n",
    "    \"term\": \"Abfall\",\n",
    "    \"category\": \"all\",\n",
    "    \"pagelength\": \"20\",\n",
    "    \"language\": \"de\"\n",
    "}\n",
    "\n",
    "url = \"https://www-genesis.destatis.de/genesisWS/rest/2020/find/find\""
   ]
  },
  {
   "cell_type": "code",
   "execution_count": 8,
   "id": "4ddf46cd",
   "metadata": {},
   "outputs": [],
   "source": [
    "response = requests.get(url, params=request)"
   ]
  },
  {
   "cell_type": "code",
   "execution_count": 9,
   "id": "10c9ad9e",
   "metadata": {},
   "outputs": [
    {
     "name": "stdout",
     "output_type": "stream",
     "text": [
      "200\n"
     ]
    }
   ],
   "source": [
    "print(response.status_code)"
   ]
  },
  {
   "cell_type": "code",
   "execution_count": 10,
   "id": "0134f2eb",
   "metadata": {},
   "outputs": [
    {
     "name": "stdout",
     "output_type": "stream",
     "text": [
      "{'Ident': {'Service': 'find', 'Method': 'find'}, 'Status': {'Code': 0, 'Content': 'erfolgreich', 'Type': 'Information'}, 'Parameter': {'username': '********************', 'password': '********************', 'term': 'Abfall', 'category': 'Alle', 'pagelength': '20', 'language': 'de'}, 'Cubes': [{'Code': '32111BJ001', 'Content': 'Erhebung der Abfallentsorgung, Abfallentsorgungsanlagen, Input von Abfallentsorgungsanlagen, Im eigenen Betrieb erzeugte Abfälle, Aus dem Inland angelieferter Abfall, Aus dem Ausland angelieferter Abfall, Abfallentsorgungsanlagen mit Output, Output von Abfallentsorgungsanlagen, Abfälle zur Beseitigung, Abfälle zur Verwertung, Abfälle zu vorbereitenden Verfahren, Abgabe an Sonstige, Deutschland insgesamt, Anlagenart, Jahr', 'State': 'vollständig mit Werten', 'Time': '2006-2020', 'LatestUpdate': '05.07.2022 12:19:44h', 'Information': 'false'}, {'Code': '32111BJ002', 'Content': 'Erhebung der Abfallentsorgung, Abfallentsorgungsanlagen, Input von Abfallentsorgungsanlagen, Im eigenen Betrieb erzeugte Abfälle, Aus dem Inland angelieferter Abfall, Aus dem Ausland angelieferter Abfall, Abfallentsorgungsanlagen mit Output, Output von Abfallentsorgungsanlagen, Abfälle zur Beseitigung, Abfälle zur Verwertung, Abfälle zu vorbereitenden Verfahren, Abgabe an Sonstige, Deutschland insgesamt, Anlagenart, Jahr', 'State': 'vollständig mit Werten', 'Time': '2006-2020', 'LatestUpdate': '05.07.2022 12:20:36h', 'Information': 'false'}, {'Code': '32111BJ003', 'Content': 'Erhebung der Abfallentsorgung, Abfallentsorgungsanlagen, Input von Abfallentsorgungsanlagen, Im eigenen Betrieb erzeugte Abfälle, Aus dem Inland angelieferter Abfall, Aus dem Ausland angelieferter Abfall, Abfallentsorgungsanlagen mit Output, Output von Abfallentsorgungsanlagen, Abfälle zur Beseitigung, Abfälle zur Verwertung, Abfälle zu vorbereitenden Verfahren, Abgabe an Sonstige, Deutschland insgesamt, Anlagenart, Abfallarten (EAV 2-Steller), Jahr', 'State': 'vollständig mit Werten', 'Time': '2006-2020', 'LatestUpdate': '05.07.2022 12:20:39h', 'Information': 'false'}, {'Code': '32111BJ004', 'Content': 'Erhebung der Abfallentsorgung, Abfallentsorgungsanlagen, Input von Abfallentsorgungsanlagen, Im eigenen Betrieb erzeugte Abfälle, Aus dem Inland angelieferter Abfall, Aus dem Ausland angelieferter Abfall, Abfallentsorgungsanlagen mit Output, Output von Abfallentsorgungsanlagen, Abfälle zur Beseitigung, Abfälle zur Verwertung, Abfälle zu vorbereitenden Verfahren, Abgabe an Sonstige, Deutschland insgesamt, Anlagenart, Abfallarten (EAV 6- und 8-Steller), Jahr', 'State': 'vollständig mit Werten', 'Time': '2006-2020', 'LatestUpdate': '05.07.2022 12:19:42h', 'Information': 'false'}, {'Code': '32111BJ005', 'Content': 'Erhebung der Abfallentsorgung, Abfallentsorgungsanlagen, Input von Abfallentsorgungsanlagen, Im eigenen Betrieb erzeugte Abfälle, Aus dem Inland angelieferter Abfall, Aus dem Ausland angelieferter Abfall, Deutschland insgesamt, Jahr', 'State': 'vollständig mit Werten', 'Time': '2017-2020', 'LatestUpdate': '05.07.2022 12:19:36h', 'Information': 'false'}, {'Code': '32111BJ006', 'Content': 'Erhebung der Abfallentsorgung, Abfallentsorgungsanlagen, Input von Abfallentsorgungsanlagen, Im eigenen Betrieb erzeugte Abfälle, Aus dem Inland angelieferter Abfall, Aus dem Ausland angelieferter Abfall, Deutschland insgesamt, Abfallarten (EAV 6- und 8-Steller), Jahr', 'State': 'vollständig mit Werten', 'Time': '2017-2020', 'LatestUpdate': '05.07.2022 12:20:42h', 'Information': 'false'}, {'Code': '32111LJ001', 'Content': 'Erhebung der Abfallentsorgung, Abfallentsorgungsanlagen, Input von Abfallentsorgungsanlagen, Im eigenen Betrieb erzeugte Abfälle, Aus dem Inland angelieferter Abfall, Aus dem Ausland angelieferter Abfall, Abfallentsorgungsanlagen mit Output, Output von Abfallentsorgungsanlagen, Abfälle zur Beseitigung, Abfälle zur Verwertung, Abfälle zu vorbereitenden Verfahren, Abgabe an Sonstige, Bundesländer, Anlagenart, Jahr', 'State': 'vollständig mit Werten', 'Time': '2006-2020', 'LatestUpdate': '05.07.2022 12:20:44h', 'Information': 'false'}, {'Code': '32111LJ002', 'Content': 'Erhebung der Abfallentsorgung, Abfallentsorgungsanlagen, Input von Abfallentsorgungsanlagen, Im eigenen Betrieb erzeugte Abfälle, Aus dem Inland angelieferter Abfall, Aus dem Ausland angelieferter Abfall, Bundesländer, Jahr', 'State': 'vollständig mit Werten', 'Time': '2018-2020', 'LatestUpdate': '05.07.2022 12:20:45h', 'Information': 'false'}, {'Code': '32121BJ001', 'Content': 'Erhebung der öffentlich-rechtl. Abfallentsorgung, Aufkommen an Haushaltsabfällen, Aufkommen an Haushaltsabfällen je Einwohner, Beim Erstempfänger beseitigte Haushaltsabfälle, Beim Erstempfänger verwertete Haushaltsabfälle, Deutschland insgesamt, Jahr', 'State': 'vollständig mit Werten', 'Time': '2004-2021', 'LatestUpdate': '19.12.2022 08:00:18h', 'Information': 'false'}, {'Code': '32121BJ002', 'Content': 'Erhebung der öffentlich-rechtl. Abfallentsorgung, Aufkommen an Haushaltsabfällen, Aufkommen an Haushaltsabfällen je Einwohner, Beim Erstempfänger beseitigte Haushaltsabfälle, Beim Erstempfänger verwertete Haushaltsabfälle, Deutschland insgesamt, Abfallarten, Jahr', 'State': 'vollständig mit Werten', 'Time': '2004-2021', 'LatestUpdate': '19.12.2022 08:00:21h', 'Information': 'false'}, {'Code': '32121BJ003', 'Content': 'Erhebung der öffentlich-rechtl. Abfallentsorgung, Aufkommen an Haushaltsabfällen, Aufkommen an Haushaltsabfällen je Einwohner, Beim Erstempfänger beseitigte Haushaltsabfälle, Beim Erstempfänger verwertete Haushaltsabfälle, Deutschland insgesamt, Abfallarten, Jahr', 'State': 'vollständig mit Werten', 'Time': '2004-2021', 'LatestUpdate': '19.12.2022 08:00:16h', 'Information': 'false'}, {'Code': '32121LJ001', 'Content': 'Erhebung der öffentlich-rechtl. Abfallentsorgung, Aufkommen an Haushaltsabfällen, Aufkommen an Haushaltsabfällen je Einwohner, Beim Erstempfänger beseitigte Haushaltsabfälle, Beim Erstempfänger verwertete Haushaltsabfälle, Bundesländer, Jahr', 'State': 'vollständig mit Werten', 'Time': '2004-2021', 'LatestUpdate': '19.12.2022 08:00:22h', 'Information': 'false'}, {'Code': '32121LJ002', 'Content': 'Erhebung der öffentlich-rechtl. Abfallentsorgung, Aufkommen an Haushaltsabfällen, Aufkommen an Haushaltsabfällen je Einwohner, Bundesländer, Abfallarten, Jahr', 'State': 'vollständig mit Werten', 'Time': '2004-2021', 'LatestUpdate': '19.12.2022 08:00:19h', 'Information': 'false'}, {'Code': '32141B2002', 'Content': 'Aufbereitung,Verwertung v. Bau- u. Abbruchabfällen, Bauschuttaufbereitungsanlagen, Input von Bauschuttaufbereitungsanlagen, Bauschuttaufbereitungsanlagen mit Output, Output von Bauschuttaufbereitungsanlagen, Deutschland insgesamt, Abfallarten (EAV 2-Steller (Auswahl)), Jahr', 'State': 'vollständig mit Werten', 'Time': '2006-2020', 'LatestUpdate': '06.05.2022 15:18:23h', 'Information': 'false'}, {'Code': '32141B2003', 'Content': 'Aufbereitung,Verwertung v. Bau- u. Abbruchabfällen, Bauschuttaufbereitungsanlagen, Input von Bauschuttaufbereitungsanlagen, Bauschuttaufbereitungsanlagen mit Output, Output von Bauschuttaufbereitungsanlagen, Deutschland insgesamt, Abfallarten (EAV 6- und 8-Steller (Auswahl)), Jahr', 'State': 'vollständig mit Werten', 'Time': '2006-2020', 'LatestUpdate': '06.05.2022 15:18:19h', 'Information': 'false'}, {'Code': '32141B2005', 'Content': 'Aufbereitung,Verwertung v. Bau- u. Abbruchabfällen, Asphaltmischanlagen, Input von Asphaltmischanlagen, Deutschland insgesamt, Abfallarten (EAV 2-Steller (Auswahl)), Jahr', 'State': 'vollständig mit Werten', 'Time': '2006-2020', 'LatestUpdate': '06.05.2022 15:18:17h', 'Information': 'false'}, {'Code': '32141B2006', 'Content': 'Aufbereitung,Verwertung v. Bau- u. Abbruchabfällen, Asphaltmischanlagen, Input von Asphaltmischanlagen, Deutschland insgesamt, Abfallarten (EAV 6- und 8-Steller (Auswahl)), Jahr', 'State': 'vollständig mit Werten', 'Time': '2006-2020', 'LatestUpdate': '06.05.2022 15:18:24h', 'Information': 'false'}, {'Code': '32151BJ001', 'Content': 'Erhebung der gefährlichen Abfälle, Abfallerzeuger, Abfallmengen, Abfallmengen, von Primärerzeugern erzeugt, Deutschland insgesamt, Jahr', 'State': 'vollständig mit Werten', 'Time': '2006-2020', 'LatestUpdate': '30.06.2022 14:52:31h', 'Information': 'false'}, {'Code': '32151BJ002', 'Content': 'Erhebung der gefährlichen Abfälle, Abfallerzeuger, Abfallmengen, Abfallmengen, von Primärerzeugern erzeugt, Deutschland insgesamt, WZ2003 (Unterabschnitte): Abfallwirtschaft, Jahr', 'State': 'vollständig mit Werten', 'Time': '2006-2007', 'LatestUpdate': '19.08.2013 14:27:41h', 'Information': 'false'}, {'Code': '32151BJ003', 'Content': 'Erhebung der gefährlichen Abfälle, Abfallerzeuger, Abfallmengen, Abfallmengen, von Primärerzeugern erzeugt, Deutschland insgesamt, WZ2003 (Unterabschnitte): Abfallwirtschaft, Abfallarten (EAV 2-Steller), Jahr', 'State': 'vollständig mit Werten', 'Time': '2006-2007', 'LatestUpdate': '19.08.2013 14:27:39h', 'Information': 'false'}], 'Statistics': [{'Code': '32111', 'Content': 'Erhebung der Abfallentsorgung', 'Cubes': '8', 'Information': 'true'}, {'Code': '32121', 'Content': 'Erhebung der öffentlich-rechtl. Abfallentsorgung', 'Cubes': '5', 'Information': 'true'}, {'Code': '32141', 'Content': 'Aufbereitung,Verwertung v. Bau- u. Abbruchabfällen', 'Cubes': '7', 'Information': 'true'}, {'Code': '32151', 'Content': 'Erhebung der gefährlichen Abfälle', 'Cubes': '12', 'Information': 'true'}, {'Code': '32161', 'Content': 'Erhebung über die Abfallerzeugung', 'Cubes': '6', 'Information': 'true'}, {'Code': '42131', 'Content': 'Vierteljährliche Produktionserhebung i.Verarb.Gew.', 'Cubes': '18', 'Information': 'true'}, {'Code': '43211', 'Content': 'Investitionserhebung: Energie- u. Wasserversorgung', 'Cubes': '1', 'Information': 'true'}, {'Code': '43221', 'Content': 'Kostenstrukturerhebung: Energie-u.Wasserversorgung', 'Cubes': '1', 'Information': 'true'}, {'Code': '43311', 'Content': 'Monatserhebung ü. Elektrizitäts- u. Wärmeerzeugung', 'Cubes': '4', 'Information': 'true'}, {'Code': '43312', 'Content': 'Erh. ü.Stromein- u.-ausspeisung bei Netzbetreibern', 'Cubes': '4', 'Information': 'true'}, {'Code': '43351', 'Content': 'Erh.ü. Elektrizitäts- u.Wärmeerzeug. i.Verarb.Gew.', 'Cubes': '8', 'Information': 'true'}, {'Code': '43411', 'Content': 'Erhebung über Erzeugung und Verwendung von Wärme', 'Cubes': '1', 'Information': 'true'}, {'Code': '43531', 'Content': 'Energieverwendung der Betriebe im Verarb. Gewerbe', 'Cubes': '5', 'Information': 'true'}, {'Code': '46131', 'Content': 'Güterverkehrsstatistik der Eisenbahn', 'Cubes': '25', 'Information': 'true'}, {'Code': '46321', 'Content': 'Güterverkehrsstatistik der Binnenschifffahrt', 'Cubes': '23', 'Information': 'true'}, {'Code': '46331', 'Content': 'Seeverkehrsstatistik', 'Cubes': '32', 'Information': 'true'}, {'Code': '48112', 'Content': 'Bereichsübergreifende Unternehmensstatistik', 'Cubes': '5', 'Information': 'true'}, {'Code': '51000', 'Content': 'Außenhandel', 'Cubes': '79', 'Information': 'true'}, {'Code': '52411', 'Content': 'Statistik über beantragte Insolvenzverfahren', 'Cubes': '25', 'Information': 'true'}, {'Code': '61241', 'Content': 'Index der Erzeugerpreise gewerblicher Produkte', 'Cubes': '18', 'Information': 'true'}], 'Tables': [{'Code': '32111-0001', 'Content': 'Abfallentsorgung: Deutschland, Jahre', 'Time': ''}, {'Code': '32111-0002', 'Content': 'Abfallentsorgung: Deutschland, Jahre, Abfallarten', 'Time': ''}, {'Code': '32111-0003', 'Content': 'Abfallentsorgung: Deutschland, Jahre, Anlagenart', 'Time': ''}, {'Code': '32111-0004', 'Content': 'Abfallentsorgung: Deutschland, Jahre, Anlagenart,\\nAbfallarten', 'Time': ''}, {'Code': '32111-0010', 'Content': 'Abfallentsorgung: Bundesländer, Jahre', 'Time': ''}, {'Code': '32111-0011', 'Content': 'Abfallentsorgung: Bundesländer, Jahre, Anlagenart', 'Time': ''}, {'Code': '32121-0001', 'Content': 'Aufkommen an Haushaltsabfällen: Deutschland, Jahre,\\nAbfallarten', 'Time': ''}, {'Code': '32121-0002', 'Content': 'Aufkommen an Haushaltsabfällen: Bundesländer, Jahre', 'Time': ''}, {'Code': '32121-0003', 'Content': 'Aufkommen an Haushaltsabfällen: Bundesländer, Jahre,\\nAbfallarten', 'Time': ''}, {'Code': '32141-0002', 'Content': 'Bauschuttaufbereitungsanlagen: Deutschland, Jahre,\\nAbfallarten', 'Time': ''}, {'Code': '32141-0003', 'Content': 'Asphaltmischanlagen: Deutschland, Jahre, Abfallarten', 'Time': ''}, {'Code': '32151-0001', 'Content': 'Abfallerzeuger, Abfallmengen (gefährliche Abfälle):\\nDeutschland, Jahre, Wirtschaftszweige, Abfallarten\\n(EAV 2-Steller)', 'Time': ''}, {'Code': '32151-0002', 'Content': 'Abfallerzeuger, Abfallmengen (gefährliche Abfälle):\\nDeutschland, Jahre, Abfallarten (EAV 2- und 6-Steller)', 'Time': ''}, {'Code': '32151-0003', 'Content': 'Abfallerzeuger, Abfallmengen (gefährliche Abfälle):\\nBundesländer, Jahre', 'Time': ''}, {'Code': '32151-0004', 'Content': 'Erzeuger von primär nachgewiesenen Abfallmengen,\\nAbgegebene Abfallmenge an Entsorger (gefährliche Abfälle):\\nDeutschland, Jahre (bis 2008)', 'Time': ''}, {'Code': '32151-0005', 'Content': 'Erzeuger von primär nachgewiesenen Abfallmengen,\\nAbgegebene Abfallmenge an Entsorger (gefährliche Abfälle):\\nBundesländer, Jahre (bis 2008)', 'Time': ''}, {'Code': '32161-0001', 'Content': 'Betriebe, erzeugte Abfallmenge: Deutschland, Jahre,\\nAbfallarten', 'Time': ''}, {'Code': '32161-0002', 'Content': 'Betriebe, erzeugte Abfallmenge: Deutschland, Jahre,\\nWirtschaftszweige, Abfallarten', 'Time': ''}, {'Code': '42131-0003', 'Content': 'Produktionswert, -menge, -gewicht und Unternehmen der\\nVierteljährlichen Produktionserhebung: Deutschland, Jahre,\\nGüterverzeichnis (9-Steller)', 'Time': ''}, {'Code': '42131-0004', 'Content': 'Produktionswert, -menge, -gewicht und Unternehmen der\\nVierteljährlichen Produktionserhebung: Deutschland,\\nQuartale, Güterverzeichnis (9-Steller)', 'Time': ''}], 'Timeseries': None, 'Variables': [{'Code': 'ABF002', 'Content': 'Im eigenen Betrieb erzeugte Abfälle', 'Type': 'Wert', 'Values': '-1', 'Information': 'false'}, {'Code': 'ABF003', 'Content': 'Aus dem Inland angelieferter Abfall', 'Type': 'Wert', 'Values': '-1', 'Information': 'false'}, {'Code': 'ABF004', 'Content': 'Aus dem Ausland angelieferter Abfall', 'Type': 'Wert', 'Values': '-1', 'Information': 'false'}, {'Code': 'ABF006', 'Content': 'Abfälle zur Beseitigung', 'Type': 'Wert', 'Values': '-1', 'Information': 'false'}, {'Code': 'ABF007', 'Content': 'Abfälle zur Verwertung', 'Type': 'Wert', 'Values': '-1', 'Information': 'false'}, {'Code': 'ABF010', 'Content': 'Abfallerzeuger', 'Type': 'Wert', 'Values': '-1', 'Information': 'false'}, {'Code': 'ABF011', 'Content': 'Abfallmengen', 'Type': 'Wert', 'Values': '-1', 'Information': 'false'}, {'Code': 'ABF015', 'Content': 'Abfälle zu vorbereitenden Verfahren', 'Type': 'Wert', 'Values': '-1', 'Information': 'false'}, {'Code': 'ABFAT1', 'Content': 'Abfallarten', 'Type': 'sachlich', 'Values': '5', 'Information': 'false'}, {'Code': 'ABFAT2', 'Content': 'Abfallarten', 'Type': 'sachlich', 'Values': '14', 'Information': 'false'}, {'Code': 'ABG004', 'Content': 'Abgabe an Sonstige', 'Type': 'Wert', 'Values': '-1', 'Information': 'false'}, {'Code': 'AEW006', 'Content': 'Erzeuger von primär nachgewiesenen Abfallmengen', 'Type': 'Wert', 'Values': '-1', 'Information': 'true'}, {'Code': 'AEW007', 'Content': 'Abgegebene Abfallmenge an Entsorger', 'Type': 'Wert', 'Values': '-1', 'Information': 'false'}, {'Code': 'ANLAT1', 'Content': 'Anlagenart', 'Type': 'sachlich', 'Values': '15', 'Information': 'false'}, {'Code': 'ANLAT2', 'Content': 'Anlagenart', 'Type': 'sachlich', 'Values': '39', 'Information': 'false'}, {'Code': 'CP08P1', 'Content': 'CPA 2008: Altpapier und Altmetalle', 'Type': 'sachlich', 'Values': '10', 'Information': 'false'}, {'Code': 'EAVXB2', 'Content': 'Abfallarten (EAV 2-Steller)', 'Type': 'sachlich', 'Values': '21', 'Information': 'false'}, {'Code': 'EAVXB6', 'Content': 'Abfallarten (EAV 6- und 8-Steller)', 'Type': 'sachlich', 'Values': '892', 'Information': 'false'}, {'Code': 'EAVXC2', 'Content': 'Abfallarten (EAV 2-Steller (Auswahl))', 'Type': 'sachlich', 'Values': '14', 'Information': 'false'}, {'Code': 'EAVXC6', 'Content': 'Abfallarten (EAV 6- und 8-Steller (Auswahl))', 'Type': 'sachlich', 'Values': '118', 'Information': 'false'}], 'Copyright': '© Statistisches Bundesamt (Destatis), 2023'}\n"
     ]
    }
   ],
   "source": [
    "print(response.json())"
   ]
  },
  {
   "cell_type": "code",
   "execution_count": 5,
   "id": "7e960370",
   "metadata": {},
   "outputs": [],
   "source": [
    "#################################################################"
   ]
  },
  {
   "cell_type": "code",
   "execution_count": 3,
   "id": "273aaeab",
   "metadata": {},
   "outputs": [],
   "source": [
    "def getTableWithInfo(id):\n",
    "    print(id)\n",
    "    req = {\n",
    "        \"username\": os.getenv(\"API_USERNAME\"),\n",
    "        \"password\": os.getenv(\"API_PASSWORD\"),\n",
    "        \"name\": id,\n",
    "        \"area\": \"all\",\n",
    "        \"compress \": \"false\",\n",
    "        \"transpose\": \"false\",\n",
    "        \"job\": \"false\",\n",
    "        \"stand\": \"01.01.1970 01:00\",\n",
    "        \"language\": \"en\"\n",
    "    }\n",
    "    url = \"https://www-genesis.destatis.de/genesisWS/rest/2020/data/table\"\n",
    "    resp = requests.get(url, params=req)\n",
    "    return resp\n",
    "\n",
    "\n",
    "def getTableByID(id):\n",
    "    print(id)\n",
    "    req = {\n",
    "        \"username\": os.getenv(\"API_USERNAME\"),\n",
    "        \"password\": os.getenv(\"API_PASSWORD\"),\n",
    "        \"name\": id,\n",
    "        \"area\": \"all\",\n",
    "        \"compress \": \"true\",\n",
    "        \"format\": \"false\",\n",
    "        \"language\": \"en\"\n",
    "    }\n",
    "    url = \"https://www-genesis.destatis.de/genesisWS/rest/2020/data/tablefile\"\n",
    "    resp = requests.get(url, params=req)\n",
    "    return resp"
   ]
  },
  {
   "cell_type": "code",
   "execution_count": 4,
   "id": "de7b090c",
   "metadata": {},
   "outputs": [],
   "source": [
    "tableID = \"23311-0003\""
   ]
  },
  {
   "cell_type": "code",
   "execution_count": 120,
   "id": "8d353f87",
   "metadata": {},
   "outputs": [],
   "source": [
    "def tableDFAndInfo(tableID):\n",
    "    table_resp = getTableWithInfo(tableID)\n",
    "    table_csv = StringIO(table_resp.json()[\"Object\"][\"Content\"])\n",
    "    title = resp.json()[\"Object\"][\"Structure\"][\"Head\"][\"Content\"]\n",
    "    resp_df = pd.read_csv(table_csv, delimiter=';', header=0, names=[title])\n",
    "    return resp_df, table_resp"
   ]
  },
  {
   "cell_type": "code",
   "execution_count": 103,
   "id": "a861b4d4",
   "metadata": {},
   "outputs": [],
   "source": [
    "def justtableByID(tableID):\n",
    "    table_resp = getTableByID(tableID)\n",
    "    table_csv = StringIO(table_resp.text)\n",
    "    resp_df = pd.read_csv(table_csv, delimiter=';')\n",
    "    return resp_df"
   ]
  },
  {
   "cell_type": "code",
   "execution_count": 121,
   "id": "7eb1475c",
   "metadata": {},
   "outputs": [
    {
     "name": "stdout",
     "output_type": "stream",
     "text": [
      "23311-0003\n"
     ]
    }
   ],
   "source": [
    "df, resp = tableDFAndInfo(tableID)"
   ]
  },
  {
   "cell_type": "code",
   "execution_count": 75,
   "id": "2413883e",
   "metadata": {
    "scrolled": true
   },
   "outputs": [
    {
     "data": {
      "text/html": [
       "<div>\n",
       "<style scoped>\n",
       "    .dataframe tbody tr th:only-of-type {\n",
       "        vertical-align: middle;\n",
       "    }\n",
       "\n",
       "    .dataframe tbody tr th {\n",
       "        vertical-align: top;\n",
       "    }\n",
       "\n",
       "    .dataframe thead th {\n",
       "        text-align: right;\n",
       "    }\n",
       "</style>\n",
       "<table border=\"1\" class=\"dataframe\">\n",
       "  <thead>\n",
       "    <tr style=\"text-align: right;\">\n",
       "      <th></th>\n",
       "      <th></th>\n",
       "      <th>GENESIS-Tabelle: 23311-0003</th>\n",
       "    </tr>\n",
       "  </thead>\n",
       "  <tbody>\n",
       "    <tr>\n",
       "      <th>Terminations of pregnancy: Germany, quarters</th>\n",
       "      <th>NaN</th>\n",
       "      <td>NaN</td>\n",
       "    </tr>\n",
       "    <tr>\n",
       "      <th>Statistics of abortions</th>\n",
       "      <th>NaN</th>\n",
       "      <td>NaN</td>\n",
       "    </tr>\n",
       "    <tr>\n",
       "      <th>Germany</th>\n",
       "      <th>NaN</th>\n",
       "      <td>NaN</td>\n",
       "    </tr>\n",
       "    <tr>\n",
       "      <th rowspan=\"2\" valign=\"top\">NaN</th>\n",
       "      <th>NaN</th>\n",
       "      <td>Terminations of pregnancy</td>\n",
       "    </tr>\n",
       "    <tr>\n",
       "      <th>NaN</th>\n",
       "      <td>number</td>\n",
       "    </tr>\n",
       "    <tr>\n",
       "      <th>...</th>\n",
       "      <th>...</th>\n",
       "      <td>...</td>\n",
       "    </tr>\n",
       "    <tr>\n",
       "      <th rowspan=\"2\" valign=\"top\">2022</th>\n",
       "      <th>Quarter 3</th>\n",
       "      <td>26452</td>\n",
       "    </tr>\n",
       "    <tr>\n",
       "      <th>Quarter 4</th>\n",
       "      <td>...</td>\n",
       "    </tr>\n",
       "    <tr>\n",
       "      <th>__________</th>\n",
       "      <th>NaN</th>\n",
       "      <td>NaN</td>\n",
       "    </tr>\n",
       "    <tr>\n",
       "      <th>Â© Federal Statistical Office, Wiesbaden 2023</th>\n",
       "      <th>NaN</th>\n",
       "      <td>NaN</td>\n",
       "    </tr>\n",
       "    <tr>\n",
       "      <th>created: 2023-01-26 / 14:32:51</th>\n",
       "      <th>NaN</th>\n",
       "      <td>NaN</td>\n",
       "    </tr>\n",
       "  </tbody>\n",
       "</table>\n",
       "<p>116 rows × 1 columns</p>\n",
       "</div>"
      ],
      "text/plain": [
       "                                                        GENESIS-Tabelle: 23311-0003\n",
       "Terminations of pregnancy: Germany, quarters  NaN                               NaN\n",
       "Statistics of abortions                       NaN                               NaN\n",
       "Germany                                       NaN                               NaN\n",
       "NaN                                           NaN         Terminations of pregnancy\n",
       "                                              NaN                            number\n",
       "...                                                                             ...\n",
       "2022                                          Quarter 3                       26452\n",
       "                                              Quarter 4                         ...\n",
       "__________                                    NaN                               NaN\n",
       "Â© Federal Statistical Office, Wiesbaden 2023 NaN                               NaN\n",
       "created: 2023-01-26 / 14:32:51                NaN                               NaN\n",
       "\n",
       "[116 rows x 1 columns]"
      ]
     },
     "execution_count": 75,
     "metadata": {},
     "output_type": "execute_result"
    }
   ],
   "source": [
    "resp_df"
   ]
  },
  {
   "cell_type": "code",
   "execution_count": 76,
   "id": "2b7c0fd5",
   "metadata": {},
   "outputs": [
    {
     "data": {
      "text/html": [
       "<div>\n",
       "<style scoped>\n",
       "    .dataframe tbody tr th:only-of-type {\n",
       "        vertical-align: middle;\n",
       "    }\n",
       "\n",
       "    .dataframe tbody tr th {\n",
       "        vertical-align: top;\n",
       "    }\n",
       "\n",
       "    .dataframe thead th {\n",
       "        text-align: right;\n",
       "    }\n",
       "</style>\n",
       "<table border=\"1\" class=\"dataframe\">\n",
       "  <thead>\n",
       "    <tr style=\"text-align: right;\">\n",
       "      <th></th>\n",
       "      <th></th>\n",
       "      <th>GENESIS-Tabelle: 23311-0003</th>\n",
       "    </tr>\n",
       "  </thead>\n",
       "  <tbody>\n",
       "    <tr>\n",
       "      <th>Terminations of pregnancy: Germany, quarters</th>\n",
       "      <th>NaN</th>\n",
       "      <td>NaN</td>\n",
       "    </tr>\n",
       "    <tr>\n",
       "      <th>Statistics of abortions</th>\n",
       "      <th>NaN</th>\n",
       "      <td>NaN</td>\n",
       "    </tr>\n",
       "    <tr>\n",
       "      <th>Germany</th>\n",
       "      <th>NaN</th>\n",
       "      <td>NaN</td>\n",
       "    </tr>\n",
       "    <tr>\n",
       "      <th rowspan=\"2\" valign=\"top\">NaN</th>\n",
       "      <th>NaN</th>\n",
       "      <td>Terminations of pregnancy</td>\n",
       "    </tr>\n",
       "    <tr>\n",
       "      <th>NaN</th>\n",
       "      <td>number</td>\n",
       "    </tr>\n",
       "    <tr>\n",
       "      <th>...</th>\n",
       "      <th>...</th>\n",
       "      <td>...</td>\n",
       "    </tr>\n",
       "    <tr>\n",
       "      <th rowspan=\"2\" valign=\"top\">2022</th>\n",
       "      <th>Quarter 3</th>\n",
       "      <td>26452</td>\n",
       "    </tr>\n",
       "    <tr>\n",
       "      <th>Quarter 4</th>\n",
       "      <td>...</td>\n",
       "    </tr>\n",
       "    <tr>\n",
       "      <th>__________</th>\n",
       "      <th>NaN</th>\n",
       "      <td>NaN</td>\n",
       "    </tr>\n",
       "    <tr>\n",
       "      <th>Â© Federal Statistical Office, Wiesbaden 2023</th>\n",
       "      <th>NaN</th>\n",
       "      <td>NaN</td>\n",
       "    </tr>\n",
       "    <tr>\n",
       "      <th>created: 2023-01-26 / 14:32:51</th>\n",
       "      <th>NaN</th>\n",
       "      <td>NaN</td>\n",
       "    </tr>\n",
       "  </tbody>\n",
       "</table>\n",
       "<p>116 rows × 1 columns</p>\n",
       "</div>"
      ],
      "text/plain": [
       "                                                        GENESIS-Tabelle: 23311-0003\n",
       "Terminations of pregnancy: Germany, quarters  NaN                               NaN\n",
       "Statistics of abortions                       NaN                               NaN\n",
       "Germany                                       NaN                               NaN\n",
       "NaN                                           NaN         Terminations of pregnancy\n",
       "                                              NaN                            number\n",
       "...                                                                             ...\n",
       "2022                                          Quarter 3                       26452\n",
       "                                              Quarter 4                         ...\n",
       "__________                                    NaN                               NaN\n",
       "Â© Federal Statistical Office, Wiesbaden 2023 NaN                               NaN\n",
       "created: 2023-01-26 / 14:32:51                NaN                               NaN\n",
       "\n",
       "[116 rows x 1 columns]"
      ]
     },
     "execution_count": 76,
     "metadata": {},
     "output_type": "execute_result"
    }
   ],
   "source": [
    "resp_df"
   ]
  },
  {
   "cell_type": "code",
   "execution_count": 91,
   "id": "6379decb",
   "metadata": {},
   "outputs": [],
   "source": [
    "def keepOnlyNumbers(df):\n",
    "    df = df.apply(pd.to_numeric, errors='coerce')\n",
    "    df = df[~pd.isna(df[df.columns[0]])]\n",
    "    return df"
   ]
  },
  {
   "cell_type": "code",
   "execution_count": 93,
   "id": "3b464b63",
   "metadata": {},
   "outputs": [],
   "source": [
    "df = keepOnlyNumbers(resp_df)"
   ]
  },
  {
   "cell_type": "code",
   "execution_count": 95,
   "id": "f6c4a05e",
   "metadata": {},
   "outputs": [
    {
     "data": {
      "text/plain": [
       "<AxesSubplot: >"
      ]
     },
     "execution_count": 95,
     "metadata": {},
     "output_type": "execute_result"
    },
    {
     "data": {
      "image/png": "[encoded data removed]",
      "text/plain": [
       "<Figure size 640x480 with 1 Axes>"
      ]
     },
     "metadata": {},
     "output_type": "display_data"
    }
   ],
   "source": [
    "df.plot()"
   ]
  }
 ],
 "metadata": {
  "kernelspec": {
   "display_name": "Python 3 (ipykernel)",
   "language": "python",
   "name": "python3"
  },
  "language_info": {
   "codemirror_mode": {
    "name": "ipython",
    "version": 3
   },
   "file_extension": ".py",
   "mimetype": "text/x-python",
   "name": "python",
   "nbconvert_exporter": "python",
   "pygments_lexer": "ipython3",
   "version": "3.8.10"
  }
 },
 "nbformat": 4,
 "nbformat_minor": 5
}
