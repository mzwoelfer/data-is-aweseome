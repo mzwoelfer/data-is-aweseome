{
 "cells": [
  {
   "cell_type": "code",
   "execution_count": 1,
   "id": "8d6d5e41",
   "metadata": {},
   "outputs": [],
   "source": [
    "import os\n",
    "import json\n",
    "import pandas as pd\n",
    "import matplotlib.pyplot as plt"
   ]
  },
  {
   "cell_type": "code",
   "execution_count": 2,
   "id": "5325ab33",
   "metadata": {},
   "outputs": [],
   "source": [
    "gdp_germany_file = \"gdp_germany_table.html\"\n",
    "percentage_military_spending_csv = \"military_spending_percentage_gdp.csv\"\n",
    "sipri_excel = \"SIPRI-Milex-data-1949-2022.xlsx\""
   ]
  },
  {
   "cell_type": "code",
   "execution_count": 3,
   "id": "721e9ca0",
   "metadata": {},
   "outputs": [
    {
     "name": "stderr",
     "output_type": "stream",
     "text": [
      "/home/martin/Projects/data-is-awesome/germany_military_spending/Env/lib/python3.8/site-packages/openpyxl/styles/stylesheet.py:226: UserWarning: Workbook contains no default style, apply openpyxl's default\n",
      "  warn(\"Workbook contains no default style, apply openpyxl's default\")\n"
     ]
    },
    {
     "data": {
      "text/html": [
       "<div>\n",
       "<style scoped>\n",
       "    .dataframe tbody tr th:only-of-type {\n",
       "        vertical-align: middle;\n",
       "    }\n",
       "\n",
       "    .dataframe tbody tr th {\n",
       "        vertical-align: top;\n",
       "    }\n",
       "\n",
       "    .dataframe thead th {\n",
       "        text-align: right;\n",
       "    }\n",
       "</style>\n",
       "<table border=\"1\" class=\"dataframe\">\n",
       "  <thead>\n",
       "    <tr style=\"text-align: right;\">\n",
       "      <th></th>\n",
       "    </tr>\n",
       "  </thead>\n",
       "  <tbody>\n",
       "  </tbody>\n",
       "</table>\n",
       "</div>"
      ],
      "text/plain": [
       "Empty DataFrame\n",
       "Columns: []\n",
       "Index: []"
      ]
     },
     "execution_count": 3,
     "metadata": {},
     "output_type": "execute_result"
    }
   ],
   "source": [
    "pd.read_excel(sipri_excel)"
   ]
  },
  {
   "cell_type": "code",
   "execution_count": 29,
   "id": "344a0519",
   "metadata": {},
   "outputs": [],
   "source": [
    "percentage_military_spending_df = pd.read_csv(percentage_military_spending_csv, delimiter=\" \")"
   ]
  },
  {
   "cell_type": "code",
   "execution_count": 30,
   "id": "f0f3fc7a",
   "metadata": {},
   "outputs": [],
   "source": [
    "perc_df = percentage_military_spending_df.T"
   ]
  },
  {
   "cell_type": "code",
   "execution_count": 31,
   "id": "5e99e5a2",
   "metadata": {},
   "outputs": [],
   "source": [
    "perc_df = perc_df.reset_index().rename(columns={'index': 'years', 0: 'percentage'})"
   ]
  },
  {
   "cell_type": "code",
   "execution_count": 32,
   "id": "3770eea7",
   "metadata": {},
   "outputs": [],
   "source": [
    "perc_df['years'] = perc_df['years'].astype('int64')"
   ]
  },
  {
   "cell_type": "code",
   "execution_count": 33,
   "id": "f3c96977",
   "metadata": {},
   "outputs": [],
   "source": [
    "# remove percentage symbol and convert to float\n",
    "perc_df['percentage'] = perc_df['percentage'].str.replace(',', '.').str.rstrip('%').astype(float)\n",
    "\n",
    "# divide each value by 100\n",
    "perc_df['percentage'] = perc_df['percentage'] / 100"
   ]
  },
  {
   "cell_type": "code",
   "execution_count": 34,
   "id": "94e8cb79",
   "metadata": {},
   "outputs": [],
   "source": [
    "####################################################"
   ]
  },
  {
   "cell_type": "code",
   "execution_count": 35,
   "id": "e3ab0a49",
   "metadata": {},
   "outputs": [],
   "source": [
    "gdp_df = pd.read_html(gdp_germany_file)[0].rename(columns={'Merkmal': 'years', 'Bruttoinlandsprodukt in Milliarden Euro': 'gdp in bn EURO'})"
   ]
  },
  {
   "cell_type": "code",
   "execution_count": 36,
   "id": "e7b9fb57",
   "metadata": {},
   "outputs": [
    {
     "name": "stderr",
     "output_type": "stream",
     "text": [
      "/tmp/ipykernel_19917/640396110.py:1: FutureWarning: The default value of regex will change from True to False in a future version. In addition, single character regular expressions will *not* be treated as literal strings when regex=True.\n",
      "  gdp_df['gdp in bn EURO'] = gdp_df['gdp in bn EURO'].str.replace(',', '').str.replace('.', '')\n"
     ]
    }
   ],
   "source": [
    "gdp_df['gdp in bn EURO'] = gdp_df['gdp in bn EURO'].str.replace(',', '').str.replace('.', '')\n",
    "gdp_df[\"gdp in bn EURO\"] = gdp_df['gdp in bn EURO'].astype('float')/100"
   ]
  },
  {
   "cell_type": "code",
   "execution_count": 37,
   "id": "4d2e3bff",
   "metadata": {},
   "outputs": [
    {
     "data": {
      "text/html": [
       "<div>\n",
       "<style scoped>\n",
       "    .dataframe tbody tr th:only-of-type {\n",
       "        vertical-align: middle;\n",
       "    }\n",
       "\n",
       "    .dataframe tbody tr th {\n",
       "        vertical-align: top;\n",
       "    }\n",
       "\n",
       "    .dataframe thead th {\n",
       "        text-align: right;\n",
       "    }\n",
       "</style>\n",
       "<table border=\"1\" class=\"dataframe\">\n",
       "  <thead>\n",
       "    <tr style=\"text-align: right;\">\n",
       "      <th></th>\n",
       "      <th>years</th>\n",
       "      <th>percentage</th>\n",
       "    </tr>\n",
       "  </thead>\n",
       "  <tbody>\n",
       "    <tr>\n",
       "      <th>0</th>\n",
       "      <td>1953</td>\n",
       "      <td>0.042</td>\n",
       "    </tr>\n",
       "    <tr>\n",
       "      <th>1</th>\n",
       "      <td>1954</td>\n",
       "      <td>0.040</td>\n",
       "    </tr>\n",
       "    <tr>\n",
       "      <th>2</th>\n",
       "      <td>1955</td>\n",
       "      <td>0.041</td>\n",
       "    </tr>\n",
       "    <tr>\n",
       "      <th>3</th>\n",
       "      <td>1956</td>\n",
       "      <td>0.036</td>\n",
       "    </tr>\n",
       "    <tr>\n",
       "      <th>4</th>\n",
       "      <td>1957</td>\n",
       "      <td>0.041</td>\n",
       "    </tr>\n",
       "    <tr>\n",
       "      <th>...</th>\n",
       "      <td>...</td>\n",
       "      <td>...</td>\n",
       "    </tr>\n",
       "    <tr>\n",
       "      <th>58</th>\n",
       "      <td>2011</td>\n",
       "      <td>0.013</td>\n",
       "    </tr>\n",
       "    <tr>\n",
       "      <th>59</th>\n",
       "      <td>2012</td>\n",
       "      <td>0.013</td>\n",
       "    </tr>\n",
       "    <tr>\n",
       "      <th>60</th>\n",
       "      <td>2013</td>\n",
       "      <td>0.012</td>\n",
       "    </tr>\n",
       "    <tr>\n",
       "      <th>61</th>\n",
       "      <td>2014</td>\n",
       "      <td>0.012</td>\n",
       "    </tr>\n",
       "    <tr>\n",
       "      <th>62</th>\n",
       "      <td>2015</td>\n",
       "      <td>0.012</td>\n",
       "    </tr>\n",
       "  </tbody>\n",
       "</table>\n",
       "<p>63 rows × 2 columns</p>\n",
       "</div>"
      ],
      "text/plain": [
       "    years  percentage\n",
       "0    1953       0.042\n",
       "1    1954       0.040\n",
       "2    1955       0.041\n",
       "3    1956       0.036\n",
       "4    1957       0.041\n",
       "..    ...         ...\n",
       "58   2011       0.013\n",
       "59   2012       0.013\n",
       "60   2013       0.012\n",
       "61   2014       0.012\n",
       "62   2015       0.012\n",
       "\n",
       "[63 rows x 2 columns]"
      ]
     },
     "execution_count": 37,
     "metadata": {},
     "output_type": "execute_result"
    }
   ],
   "source": [
    "perc_df"
   ]
  },
  {
   "cell_type": "code",
   "execution_count": 38,
   "id": "7b106d9e",
   "metadata": {},
   "outputs": [
    {
     "data": {
      "text/html": [
       "<div>\n",
       "<style scoped>\n",
       "    .dataframe tbody tr th:only-of-type {\n",
       "        vertical-align: middle;\n",
       "    }\n",
       "\n",
       "    .dataframe tbody tr th {\n",
       "        vertical-align: top;\n",
       "    }\n",
       "\n",
       "    .dataframe thead th {\n",
       "        text-align: right;\n",
       "    }\n",
       "</style>\n",
       "<table border=\"1\" class=\"dataframe\">\n",
       "  <thead>\n",
       "    <tr style=\"text-align: right;\">\n",
       "      <th></th>\n",
       "      <th>years</th>\n",
       "      <th>gdp in bn EURO</th>\n",
       "    </tr>\n",
       "  </thead>\n",
       "  <tbody>\n",
       "    <tr>\n",
       "      <th>0</th>\n",
       "      <td>2022</td>\n",
       "      <td>3867.05</td>\n",
       "    </tr>\n",
       "    <tr>\n",
       "      <th>1</th>\n",
       "      <td>2021</td>\n",
       "      <td>3601.75</td>\n",
       "    </tr>\n",
       "    <tr>\n",
       "      <th>2</th>\n",
       "      <td>2020</td>\n",
       "      <td>3405.43</td>\n",
       "    </tr>\n",
       "    <tr>\n",
       "      <th>3</th>\n",
       "      <td>2019</td>\n",
       "      <td>3473.26</td>\n",
       "    </tr>\n",
       "    <tr>\n",
       "      <th>4</th>\n",
       "      <td>2018</td>\n",
       "      <td>3365.45</td>\n",
       "    </tr>\n",
       "    <tr>\n",
       "      <th>...</th>\n",
       "      <td>...</td>\n",
       "      <td>...</td>\n",
       "    </tr>\n",
       "    <tr>\n",
       "      <th>68</th>\n",
       "      <td>1954</td>\n",
       "      <td>80.41</td>\n",
       "    </tr>\n",
       "    <tr>\n",
       "      <th>69</th>\n",
       "      <td>1953</td>\n",
       "      <td>74.92</td>\n",
       "    </tr>\n",
       "    <tr>\n",
       "      <th>70</th>\n",
       "      <td>1952</td>\n",
       "      <td>69.75</td>\n",
       "    </tr>\n",
       "    <tr>\n",
       "      <th>71</th>\n",
       "      <td>1951</td>\n",
       "      <td>61.00</td>\n",
       "    </tr>\n",
       "    <tr>\n",
       "      <th>72</th>\n",
       "      <td>1950</td>\n",
       "      <td>49.69</td>\n",
       "    </tr>\n",
       "  </tbody>\n",
       "</table>\n",
       "<p>73 rows × 2 columns</p>\n",
       "</div>"
      ],
      "text/plain": [
       "    years  gdp in bn EURO\n",
       "0    2022         3867.05\n",
       "1    2021         3601.75\n",
       "2    2020         3405.43\n",
       "3    2019         3473.26\n",
       "4    2018         3365.45\n",
       "..    ...             ...\n",
       "68   1954           80.41\n",
       "69   1953           74.92\n",
       "70   1952           69.75\n",
       "71   1951           61.00\n",
       "72   1950           49.69\n",
       "\n",
       "[73 rows x 2 columns]"
      ]
     },
     "execution_count": 38,
     "metadata": {},
     "output_type": "execute_result"
    }
   ],
   "source": [
    "gdp_df"
   ]
  },
  {
   "cell_type": "code",
   "execution_count": 39,
   "id": "b7f8c1f3",
   "metadata": {},
   "outputs": [
    {
     "name": "stdout",
     "output_type": "stream",
     "text": [
      "<class 'pandas.core.frame.DataFrame'>\n",
      "RangeIndex: 63 entries, 0 to 62\n",
      "Data columns (total 2 columns):\n",
      " #   Column      Non-Null Count  Dtype  \n",
      "---  ------      --------------  -----  \n",
      " 0   years       63 non-null     int64  \n",
      " 1   percentage  63 non-null     float64\n",
      "dtypes: float64(1), int64(1)\n",
      "memory usage: 1.1 KB\n"
     ]
    }
   ],
   "source": [
    "perc_df.info()"
   ]
  },
  {
   "cell_type": "code",
   "execution_count": 40,
   "id": "8be65558",
   "metadata": {},
   "outputs": [],
   "source": [
    "df = gdp_df.join(perc_df.set_index('years'), on='years')"
   ]
  },
  {
   "cell_type": "code",
   "execution_count": 41,
   "id": "fb2f0841",
   "metadata": {},
   "outputs": [],
   "source": [
    "#####"
   ]
  },
  {
   "cell_type": "code",
   "execution_count": 42,
   "id": "726553f0",
   "metadata": {},
   "outputs": [
    {
     "name": "stdout",
     "output_type": "stream",
     "text": [
      "<class 'pandas.core.frame.DataFrame'>\n",
      "RangeIndex: 73 entries, 0 to 72\n",
      "Data columns (total 3 columns):\n",
      " #   Column          Non-Null Count  Dtype  \n",
      "---  ------          --------------  -----  \n",
      " 0   years           73 non-null     int64  \n",
      " 1   gdp in bn EURO  73 non-null     float64\n",
      " 2   percentage      63 non-null     float64\n",
      "dtypes: float64(2), int64(1)\n",
      "memory usage: 1.8 KB\n"
     ]
    }
   ],
   "source": [
    "df.info()"
   ]
  },
  {
   "cell_type": "code",
   "execution_count": 43,
   "id": "db5002e2",
   "metadata": {},
   "outputs": [],
   "source": [
    "df[\"military_spending in bn EURO\"] = df[\"gdp in bn EURO\"] * df[\"percentage\"]"
   ]
  },
  {
   "cell_type": "code",
   "execution_count": 44,
   "id": "ec8f0a3f",
   "metadata": {},
   "outputs": [
    {
     "data": {
      "text/html": [
       "<div>\n",
       "<style scoped>\n",
       "    .dataframe tbody tr th:only-of-type {\n",
       "        vertical-align: middle;\n",
       "    }\n",
       "\n",
       "    .dataframe tbody tr th {\n",
       "        vertical-align: top;\n",
       "    }\n",
       "\n",
       "    .dataframe thead th {\n",
       "        text-align: right;\n",
       "    }\n",
       "</style>\n",
       "<table border=\"1\" class=\"dataframe\">\n",
       "  <thead>\n",
       "    <tr style=\"text-align: right;\">\n",
       "      <th></th>\n",
       "      <th>years</th>\n",
       "      <th>gdp in bn EURO</th>\n",
       "      <th>percentage</th>\n",
       "      <th>military_spending in bn EURO</th>\n",
       "    </tr>\n",
       "  </thead>\n",
       "  <tbody>\n",
       "    <tr>\n",
       "      <th>7</th>\n",
       "      <td>2015</td>\n",
       "      <td>3026.18</td>\n",
       "      <td>0.012</td>\n",
       "      <td>36.31416</td>\n",
       "    </tr>\n",
       "    <tr>\n",
       "      <th>8</th>\n",
       "      <td>2014</td>\n",
       "      <td>2927.43</td>\n",
       "      <td>0.012</td>\n",
       "      <td>35.12916</td>\n",
       "    </tr>\n",
       "    <tr>\n",
       "      <th>9</th>\n",
       "      <td>2013</td>\n",
       "      <td>2811.35</td>\n",
       "      <td>0.012</td>\n",
       "      <td>33.73620</td>\n",
       "    </tr>\n",
       "    <tr>\n",
       "      <th>10</th>\n",
       "      <td>2012</td>\n",
       "      <td>2745.31</td>\n",
       "      <td>0.013</td>\n",
       "      <td>35.68903</td>\n",
       "    </tr>\n",
       "    <tr>\n",
       "      <th>11</th>\n",
       "      <td>2011</td>\n",
       "      <td>2693.56</td>\n",
       "      <td>0.013</td>\n",
       "      <td>35.01628</td>\n",
       "    </tr>\n",
       "    <tr>\n",
       "      <th>...</th>\n",
       "      <td>...</td>\n",
       "      <td>...</td>\n",
       "      <td>...</td>\n",
       "      <td>...</td>\n",
       "    </tr>\n",
       "    <tr>\n",
       "      <th>65</th>\n",
       "      <td>1957</td>\n",
       "      <td>110.72</td>\n",
       "      <td>0.041</td>\n",
       "      <td>4.53952</td>\n",
       "    </tr>\n",
       "    <tr>\n",
       "      <th>66</th>\n",
       "      <td>1956</td>\n",
       "      <td>101.58</td>\n",
       "      <td>0.036</td>\n",
       "      <td>3.65688</td>\n",
       "    </tr>\n",
       "    <tr>\n",
       "      <th>67</th>\n",
       "      <td>1955</td>\n",
       "      <td>91.89</td>\n",
       "      <td>0.041</td>\n",
       "      <td>3.76749</td>\n",
       "    </tr>\n",
       "    <tr>\n",
       "      <th>68</th>\n",
       "      <td>1954</td>\n",
       "      <td>80.41</td>\n",
       "      <td>0.040</td>\n",
       "      <td>3.21640</td>\n",
       "    </tr>\n",
       "    <tr>\n",
       "      <th>69</th>\n",
       "      <td>1953</td>\n",
       "      <td>74.92</td>\n",
       "      <td>0.042</td>\n",
       "      <td>3.14664</td>\n",
       "    </tr>\n",
       "  </tbody>\n",
       "</table>\n",
       "<p>63 rows × 4 columns</p>\n",
       "</div>"
      ],
      "text/plain": [
       "    years  gdp in bn EURO  percentage  military_spending in bn EURO\n",
       "7    2015         3026.18       0.012                      36.31416\n",
       "8    2014         2927.43       0.012                      35.12916\n",
       "9    2013         2811.35       0.012                      33.73620\n",
       "10   2012         2745.31       0.013                      35.68903\n",
       "11   2011         2693.56       0.013                      35.01628\n",
       "..    ...             ...         ...                           ...\n",
       "65   1957          110.72       0.041                       4.53952\n",
       "66   1956          101.58       0.036                       3.65688\n",
       "67   1955           91.89       0.041                       3.76749\n",
       "68   1954           80.41       0.040                       3.21640\n",
       "69   1953           74.92       0.042                       3.14664\n",
       "\n",
       "[63 rows x 4 columns]"
      ]
     },
     "execution_count": 44,
     "metadata": {},
     "output_type": "execute_result"
    }
   ],
   "source": [
    "df.dropna()"
   ]
  },
  {
   "cell_type": "code",
   "execution_count": 45,
   "id": "ffb3b255",
   "metadata": {},
   "outputs": [],
   "source": [
    "visualize_df = df[[\"years\", \"military_spending in bn EURO\"]].dropna()"
   ]
  },
  {
   "cell_type": "code",
   "execution_count": 46,
   "id": "f6c19ec1",
   "metadata": {},
   "outputs": [
    {
     "data": {
      "text/html": [
       "<div>\n",
       "<style scoped>\n",
       "    .dataframe tbody tr th:only-of-type {\n",
       "        vertical-align: middle;\n",
       "    }\n",
       "\n",
       "    .dataframe tbody tr th {\n",
       "        vertical-align: top;\n",
       "    }\n",
       "\n",
       "    .dataframe thead th {\n",
       "        text-align: right;\n",
       "    }\n",
       "</style>\n",
       "<table border=\"1\" class=\"dataframe\">\n",
       "  <thead>\n",
       "    <tr style=\"text-align: right;\">\n",
       "      <th></th>\n",
       "      <th>years</th>\n",
       "      <th>military_spending in bn EURO</th>\n",
       "    </tr>\n",
       "  </thead>\n",
       "  <tbody>\n",
       "    <tr>\n",
       "      <th>7</th>\n",
       "      <td>2015</td>\n",
       "      <td>36.31416</td>\n",
       "    </tr>\n",
       "    <tr>\n",
       "      <th>8</th>\n",
       "      <td>2014</td>\n",
       "      <td>35.12916</td>\n",
       "    </tr>\n",
       "    <tr>\n",
       "      <th>9</th>\n",
       "      <td>2013</td>\n",
       "      <td>33.73620</td>\n",
       "    </tr>\n",
       "    <tr>\n",
       "      <th>10</th>\n",
       "      <td>2012</td>\n",
       "      <td>35.68903</td>\n",
       "    </tr>\n",
       "    <tr>\n",
       "      <th>11</th>\n",
       "      <td>2011</td>\n",
       "      <td>35.01628</td>\n",
       "    </tr>\n",
       "    <tr>\n",
       "      <th>...</th>\n",
       "      <td>...</td>\n",
       "      <td>...</td>\n",
       "    </tr>\n",
       "    <tr>\n",
       "      <th>65</th>\n",
       "      <td>1957</td>\n",
       "      <td>4.53952</td>\n",
       "    </tr>\n",
       "    <tr>\n",
       "      <th>66</th>\n",
       "      <td>1956</td>\n",
       "      <td>3.65688</td>\n",
       "    </tr>\n",
       "    <tr>\n",
       "      <th>67</th>\n",
       "      <td>1955</td>\n",
       "      <td>3.76749</td>\n",
       "    </tr>\n",
       "    <tr>\n",
       "      <th>68</th>\n",
       "      <td>1954</td>\n",
       "      <td>3.21640</td>\n",
       "    </tr>\n",
       "    <tr>\n",
       "      <th>69</th>\n",
       "      <td>1953</td>\n",
       "      <td>3.14664</td>\n",
       "    </tr>\n",
       "  </tbody>\n",
       "</table>\n",
       "<p>63 rows × 2 columns</p>\n",
       "</div>"
      ],
      "text/plain": [
       "    years  military_spending in bn EURO\n",
       "7    2015                      36.31416\n",
       "8    2014                      35.12916\n",
       "9    2013                      33.73620\n",
       "10   2012                      35.68903\n",
       "11   2011                      35.01628\n",
       "..    ...                           ...\n",
       "65   1957                       4.53952\n",
       "66   1956                       3.65688\n",
       "67   1955                       3.76749\n",
       "68   1954                       3.21640\n",
       "69   1953                       3.14664\n",
       "\n",
       "[63 rows x 2 columns]"
      ]
     },
     "execution_count": 46,
     "metadata": {},
     "output_type": "execute_result"
    }
   ],
   "source": [
    "visualize_df"
   ]
  },
  {
   "cell_type": "code",
   "execution_count": 68,
   "id": "efb343b0",
   "metadata": {},
   "outputs": [
    {
     "data": {
      "image/png": "[encoded data removed]",
      "text/plain": [
       "<Figure size 640x480 with 1 Axes>"
      ]
     },
     "metadata": {},
     "output_type": "display_data"
    }
   ],
   "source": [
    "plt.bar(visualize_df['years'], visualize_df['military_spending in bn EURO'])\n",
    "\n",
    "# add labels and title\n",
    "plt.xlabel('Jahre')\n",
    "plt.ylabel('Militärausgaben in Mrd. EURO')\n",
    "plt.title('Deutsche Militärausgaben in Mrd. EURO')\n",
    "description = '''Die Daten wurden berechnet aus dem BIP Deutschlands und den prozentualen BIP Ausgaben.\\n\n",
    "Quellen:\\n\n",
    "<a href=\"https://example.com/data\">example.com/data</a>'''\n",
    "plt.text(1950, -20, description, fontsize=10, verticalalignment='baseline')\n",
    "\n",
    "# display chart\n",
    "plt.show()"
   ]
  },
  {
   "cell_type": "code",
   "execution_count": null,
   "id": "9c33f3de",
   "metadata": {},
   "outputs": [],
   "source": []
  }
 ],
 "metadata": {
  "kernelspec": {
   "display_name": "Python 3 (ipykernel)",
   "language": "python",
   "name": "python3"
  },
  "language_info": {
   "codemirror_mode": {
    "name": "ipython",
    "version": 3
   },
   "file_extension": ".py",
   "mimetype": "text/x-python",
   "name": "python",
   "nbconvert_exporter": "python",
   "pygments_lexer": "ipython3",
   "version": "3.8.10"
  }
 },
 "nbformat": 4,
 "nbformat_minor": 5
}
